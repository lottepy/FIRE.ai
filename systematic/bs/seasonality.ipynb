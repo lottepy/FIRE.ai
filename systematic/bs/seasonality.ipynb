{
 "cells": [
  {
   "cell_type": "code",
   "id": "initial_id",
   "metadata": {
    "collapsed": true,
    "ExecuteTime": {
     "end_time": "2024-09-14T09:03:35.329641Z",
     "start_time": "2024-09-14T09:03:35.320397Z"
    }
   },
   "source": [
    "import numpy as np\n",
    "import pandas as pd \n",
    "import os, sys\n",
    "from pathlib import Path\n",
    "from datetime import date, datetime\n",
    "import matplotlib.pyplot as plt\n",
    "from pandas.errors import PerformanceWarning\n",
    "\n",
    "sys.path.insert(1, os.path.abspath(Path(os.getcwd()).parent))\n",
    "sys.path.insert(1, os.path.abspath(Path(os.getcwd()).parent.parent))\n",
    "from systematic.TechnicalIndicator import  TechnicalIndicator\n",
    "from systematic.Signal import Signal\n",
    "from systematic.DataMaster import DataMaster\n",
    "\n",
    "# from gs_quant.session import GsSession\n",
    "# GsSession.use()\n",
    "\n",
    "import warnings\n",
    "warnings.simplefilter(action='ignore', category=PerformanceWarning)\n"
   ],
   "outputs": [],
   "execution_count": 2
  },
  {
   "metadata": {
    "ExecuteTime": {
     "end_time": "2024-09-14T09:03:38.370819Z",
     "start_time": "2024-09-14T09:03:38.365168Z"
    }
   },
   "cell_type": "code",
   "source": [
    "fromDate = date(2010,1,1)\n",
    "toDate = date.today()"
   ],
   "id": "239af564a67f794f",
   "outputs": [],
   "execution_count": 3
  },
  {
   "metadata": {},
   "cell_type": "code",
   "outputs": [],
   "execution_count": null,
   "source": [
    "ti = TechnicalIndicator()\n",
    "me = ti.monthSeasonality(df, longMonList=[], shortMonthList=[1,2,3,4,5,6,7,8,9,10,11,12])"
   ],
   "id": "a5e200be881e7e"
  }
 ],
 "metadata": {
  "kernelspec": {
   "display_name": "Python 3",
   "language": "python",
   "name": "python3"
  },
  "language_info": {
   "codemirror_mode": {
    "name": "ipython",
    "version": 2
   },
   "file_extension": ".py",
   "mimetype": "text/x-python",
   "name": "python",
   "nbconvert_exporter": "python",
   "pygments_lexer": "ipython2",
   "version": "2.7.6"
  }
 },
 "nbformat": 4,
 "nbformat_minor": 5
}
