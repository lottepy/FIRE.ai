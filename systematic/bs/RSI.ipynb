{
 "cells": [
  {
   "cell_type": "code",
   "id": "initial_id",
   "metadata": {
    "collapsed": true,
    "ExecuteTime": {
     "end_time": "2024-09-14T09:07:28.022389Z",
     "start_time": "2024-09-14T09:07:27.022111Z"
    }
   },
   "source": [
    "import numpy as np\n",
    "import pandas as pd \n",
    "import os, sys\n",
    "from pathlib import Path\n",
    "from datetime import date, datetime\n",
    "import matplotlib.pyplot as plt\n",
    "from pandas.errors import PerformanceWarning\n",
    "\n",
    "sys.path.insert(1, os.path.abspath(Path(os.getcwd()).parent))\n",
    "sys.path.insert(1, os.path.abspath(Path(os.getcwd()).parent.parent))\n",
    "from systematic.TechnicalIndicator import  TechnicalIndicator\n",
    "from systematic.Signal import Signal\n",
    "from systematic.DataMaster import DataMaster\n",
    "\n",
    "# from gs_quant.session import GsSession\n",
    "# GsSession.use()\n",
    "\n",
    "import warnings\n",
    "warnings.simplefilter(action='ignore', category=PerformanceWarning)\n"
   ],
   "outputs": [
    {
     "name": "stderr",
     "output_type": "stream",
     "text": [
      "/Users/hayden/Library/Python/3.9/lib/python/site-packages/urllib3/__init__.py:35: NotOpenSSLWarning: urllib3 v2 only supports OpenSSL 1.1.1+, currently the 'ssl' module is compiled with 'LibreSSL 2.8.3'. See: https://github.com/urllib3/urllib3/issues/3020\n",
      "  warnings.warn(\n"
     ]
    }
   ],
   "execution_count": 1
  },
  {
   "metadata": {},
   "cell_type": "code",
   "outputs": [],
   "execution_count": null,
   "source": "",
   "id": "2654a6e3f5875ff"
  }
 ],
 "metadata": {
  "kernelspec": {
   "display_name": "Python 3",
   "language": "python",
   "name": "python3"
  },
  "language_info": {
   "codemirror_mode": {
    "name": "ipython",
    "version": 2
   },
   "file_extension": ".py",
   "mimetype": "text/x-python",
   "name": "python",
   "nbconvert_exporter": "python",
   "pygments_lexer": "ipython2",
   "version": "2.7.6"
  }
 },
 "nbformat": 4,
 "nbformat_minor": 5
}
