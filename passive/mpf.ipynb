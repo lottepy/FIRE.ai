{
 "cells": [
  {
   "cell_type": "code",
   "execution_count": 9,
   "metadata": {},
   "outputs": [],
   "source": [
    "import numpy as np\n",
    "import pandas as pd\n",
    "from pathlib import Path\n",
    "import os\n",
    "from datetime import datetime, date\n",
    "import calendar\n",
    "import math \n",
    "\n",
    "import pdblp\n",
    "\n",
    "# con = pdblp.BCon(debug=False, port=8194, timeout=50000)\n",
    "# con.start()"
   ]
  },
  {
   "cell_type": "code",
   "execution_count": 10,
   "metadata": {},
   "outputs": [],
   "source": [
    "def lastQuarter(day):\n",
    "    Qmonth = math.floor((day.month - 1)/ 3) * 3 \n",
    "    Qyear = day.year - 1 if Qmonth == 0 else day.year \n",
    "    Qmonth = 12 if Qmonth == 0 else Qmonth\n",
    "    Qdate = date(Qyear, Qmonth, 1)\n",
    "    _, lastDay = calendar.monthrange(Qyear, Qmonth)\n",
    "    Qdate = Qdate.replace(day=lastDay)\n",
    "    return Qdate\n",
    "\n",
    "tday = date(2023,12,31)\n",
    "curr_path = Path(os.path.abspath('')).parent\n",
    "doc_path = os.path.join(curr_path, 'data', 'policy', f\"orso_{lastQuarter(tday).strftime('%Y%m%d')}.xlsx\")"
   ]
  },
  {
   "cell_type": "code",
   "execution_count": 14,
   "metadata": {},
   "outputs": [],
   "source": [
    "xls = pd.ExcelFile(doc_path)\n",
    "hld = []\n",
    "for sheet in xls.sheet_names:\n",
    "    tmp = pd.read_excel(doc_path, sheet_name=sheet)\n",
    "    tmp['MPF'] = sheet\n",
    "    hld.append(tmp)\n",
    "hld = pd.concat(hld, axis=0).reset_index().drop(columns=['index'])"
   ]
  },
  {
   "cell_type": "code",
   "execution_count": 17,
   "metadata": {},
   "outputs": [
    {
     "data": {
      "text/html": [
       "<div>\n",
       "<style scoped>\n",
       "    .dataframe tbody tr th:only-of-type {\n",
       "        vertical-align: middle;\n",
       "    }\n",
       "\n",
       "    .dataframe tbody tr th {\n",
       "        vertical-align: top;\n",
       "    }\n",
       "\n",
       "    .dataframe thead th {\n",
       "        text-align: right;\n",
       "    }\n",
       "</style>\n",
       "<table border=\"1\" class=\"dataframe\">\n",
       "  <thead>\n",
       "    <tr style=\"text-align: right;\">\n",
       "      <th></th>\n",
       "      <th>Securities</th>\n",
       "      <th>Holdings</th>\n",
       "      <th>Ticker</th>\n",
       "      <th>MPF</th>\n",
       "    </tr>\n",
       "  </thead>\n",
       "  <tbody>\n",
       "    <tr>\n",
       "      <th>0</th>\n",
       "      <td>Eli Lilly and Co.</td>\n",
       "      <td>0.0908</td>\n",
       "      <td>LLY UN Equity</td>\n",
       "      <td>MAMMGHC</td>\n",
       "    </tr>\n",
       "    <tr>\n",
       "      <th>1</th>\n",
       "      <td>UnitedHealth Group Inc.</td>\n",
       "      <td>0.0699</td>\n",
       "      <td>UNH UN Equity</td>\n",
       "      <td>MAMMGHC</td>\n",
       "    </tr>\n",
       "    <tr>\n",
       "      <th>2</th>\n",
       "      <td>Novo Nordisk</td>\n",
       "      <td>0.0675</td>\n",
       "      <td>NOVO UN Equity</td>\n",
       "      <td>MAMMGHC</td>\n",
       "    </tr>\n",
       "    <tr>\n",
       "      <th>3</th>\n",
       "      <td>Merck &amp; Co., Inc.</td>\n",
       "      <td>0.0523</td>\n",
       "      <td>MRK US Equity</td>\n",
       "      <td>MAMMGHC</td>\n",
       "    </tr>\n",
       "    <tr>\n",
       "      <th>4</th>\n",
       "      <td>AstraZeneca PLC</td>\n",
       "      <td>0.0486</td>\n",
       "      <td>AZN US Equity</td>\n",
       "      <td>MAMMGHC</td>\n",
       "    </tr>\n",
       "    <tr>\n",
       "      <th>...</th>\n",
       "      <td>...</td>\n",
       "      <td>...</td>\n",
       "      <td>...</td>\n",
       "      <td>...</td>\n",
       "    </tr>\n",
       "    <tr>\n",
       "      <th>115</th>\n",
       "      <td>Government of Japan 1.8% 20/09/2030</td>\n",
       "      <td>0.0197</td>\n",
       "      <td>EI444310@BGN Corp</td>\n",
       "      <td>MAMMGIB</td>\n",
       "    </tr>\n",
       "    <tr>\n",
       "      <th>116</th>\n",
       "      <td>Government of the USA 0.5% 30/06/2027</td>\n",
       "      <td>0.0163</td>\n",
       "      <td>912828ZV@BGN Govt</td>\n",
       "      <td>MAMMGIB</td>\n",
       "    </tr>\n",
       "    <tr>\n",
       "      <th>117</th>\n",
       "      <td>Government of the USA 0.625% 15/05/2030</td>\n",
       "      <td>0.0163</td>\n",
       "      <td>912828ZQ@BGN Govt</td>\n",
       "      <td>MAMMGIB</td>\n",
       "    </tr>\n",
       "    <tr>\n",
       "      <th>118</th>\n",
       "      <td>Government of the USA 1.125% 31/08/2028</td>\n",
       "      <td>0.0162</td>\n",
       "      <td>91282CCV@BGN Govt</td>\n",
       "      <td>MAMMGIB</td>\n",
       "    </tr>\n",
       "    <tr>\n",
       "      <th>119</th>\n",
       "      <td>Government of the USA 0.75% 15/11/2024</td>\n",
       "      <td>0.0154</td>\n",
       "      <td>91282CDH@BGN Govt</td>\n",
       "      <td>MAMMGIB</td>\n",
       "    </tr>\n",
       "  </tbody>\n",
       "</table>\n",
       "<p>120 rows × 4 columns</p>\n",
       "</div>"
      ],
      "text/plain": [
       "                                  Securities  Holdings             Ticker  \\\n",
       "0                          Eli Lilly and Co.    0.0908      LLY UN Equity   \n",
       "1                    UnitedHealth Group Inc.    0.0699      UNH UN Equity   \n",
       "2                               Novo Nordisk    0.0675     NOVO UN Equity   \n",
       "3                          Merck & Co., Inc.    0.0523      MRK US Equity   \n",
       "4                            AstraZeneca PLC    0.0486      AZN US Equity   \n",
       "..                                       ...       ...                ...   \n",
       "115      Government of Japan 1.8% 20/09/2030    0.0197  EI444310@BGN Corp   \n",
       "116    Government of the USA 0.5% 30/06/2027    0.0163  912828ZV@BGN Govt   \n",
       "117  Government of the USA 0.625% 15/05/2030    0.0163  912828ZQ@BGN Govt   \n",
       "118  Government of the USA 1.125% 31/08/2028    0.0162  91282CCV@BGN Govt   \n",
       "119   Government of the USA 0.75% 15/11/2024    0.0154  91282CDH@BGN Govt   \n",
       "\n",
       "         MPF  \n",
       "0    MAMMGHC  \n",
       "1    MAMMGHC  \n",
       "2    MAMMGHC  \n",
       "3    MAMMGHC  \n",
       "4    MAMMGHC  \n",
       "..       ...  \n",
       "115  MAMMGIB  \n",
       "116  MAMMGIB  \n",
       "117  MAMMGIB  \n",
       "118  MAMMGIB  \n",
       "119  MAMMGIB  \n",
       "\n",
       "[120 rows x 4 columns]"
      ]
     },
     "execution_count": 17,
     "metadata": {},
     "output_type": "execute_result"
    }
   ],
   "source": [
    "hld"
   ]
  },
  {
   "cell_type": "code",
   "execution_count": 13,
   "metadata": {},
   "outputs": [
    {
     "data": {
      "text/plain": [
       "array(['MAMMGHC', 'MAGTFNA', 'MAMMGPE', 'MAMMGCV', 'MAMMGHE', 'MAMMGHS',\n",
       "       'MAMMGJE', 'MAMMGEE', 'MAMMGNE', 'MAMMGIE', 'SCAMSMB', 'MAMMGIB'],\n",
       "      dtype=object)"
      ]
     },
     "execution_count": 13,
     "metadata": {},
     "output_type": "execute_result"
    }
   ],
   "source": [
    "hld['MPF'].unique()"
   ]
  },
  {
   "cell_type": "code",
   "execution_count": null,
   "metadata": {},
   "outputs": [],
   "source": []
  },
  {
   "cell_type": "code",
   "execution_count": null,
   "metadata": {},
   "outputs": [],
   "source": []
  },
  {
   "cell_type": "code",
   "execution_count": null,
   "metadata": {},
   "outputs": [],
   "source": []
  }
 ],
 "metadata": {
  "kernelspec": {
   "display_name": "Python 3",
   "language": "python",
   "name": "python3"
  },
  "language_info": {
   "codemirror_mode": {
    "name": "ipython",
    "version": 3
   },
   "file_extension": ".py",
   "mimetype": "text/x-python",
   "name": "python",
   "nbconvert_exporter": "python",
   "pygments_lexer": "ipython3",
   "version": "3.9.2"
  }
 },
 "nbformat": 4,
 "nbformat_minor": 2
}
